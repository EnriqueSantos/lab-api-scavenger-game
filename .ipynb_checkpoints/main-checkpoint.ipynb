{
 "cells": [
  {
   "cell_type": "code",
   "execution_count": 1,
   "metadata": {},
   "outputs": [],
   "source": [
    "import requests\n",
    "import pandas as pd"
   ]
  },
  {
   "cell_type": "markdown",
   "metadata": {},
   "source": [
    "## Challenge 1: Fork Languages"
   ]
  },
  {
   "cell_type": "code",
   "execution_count": 2,
   "metadata": {},
   "outputs": [
    {
     "name": "stdout",
     "output_type": "stream",
     "text": [
      "Response: <Response [200]>\n",
      "Número de forks: 13\n"
     ]
    }
   ],
   "source": [
    "# Documentation suggest to add the next header\n",
    "head = {'Accept':'application/vnd.github.v3+json'}\n",
    "# I made a request for the /ironhack-datalabs/madrid-oct-2018\n",
    "repo_madrid_request_forks = requests.get('https://api.github.com/repos/ironhack-datalabs/madrid-oct-2018',headers=head)\n",
    "print('Response:',repo_madrid_request_forks)\n",
    "# And I transform to a pandas dataframe\n",
    "repo_madrid_request_forks = pd.DataFrame(repo_madrid_request_forks.json())\n",
    "# I got the number of forks\n",
    "print('Número de forks:',repo_madrid_request_forks['forks'][0])"
   ]
  },
  {
   "cell_type": "code",
   "execution_count": 10,
   "metadata": {},
   "outputs": [
    {
     "name": "stdout",
     "output_type": "stream",
     "text": [
      "<Response [200]>\n",
      "Languages in the repository:\n"
     ]
    },
    {
     "data": {
      "text/plain": [
       "{'Jupyter Notebook': 1134241, 'HTML': 498316, 'Python': 8691}"
      ]
     },
     "execution_count": 10,
     "metadata": {},
     "output_type": "execute_result"
    }
   ],
   "source": [
    "head = {'Accept':'application/vnd.github.v3+json'}\n",
    "# I got the language directly adding /languages to the URL.\n",
    "repo_madrid_request = requests.get('https://api.github.com/repos/ironhack-datalabs/madrid-oct-2018/languages',headers=head)\n",
    "print(repo_madrid_request)\n",
    "print('Languages in the repository:')\n",
    "repo_madrid_request.json()"
   ]
  },
  {
   "cell_type": "markdown",
   "metadata": {},
   "source": [
    "## Challenge 2."
   ]
  },
  {
   "cell_type": "markdown",
   "metadata": {},
   "source": [
    "Count how many commits were made in the past week.\n",
    "\n",
    "* Obtain all the commits made in the past week via API, which is a JSON array that contains multiple commit objects.\n",
    "\n",
    "* Count how many commit objects are contained in the array."
   ]
  },
  {
   "cell_type": "code",
   "execution_count": 17,
   "metadata": {},
   "outputs": [
    {
     "name": "stdout",
     "output_type": "stream",
     "text": [
      "<Response [200]>\n"
     ]
    }
   ],
   "source": [
    "repo_commits = requests.get('https://api.github.com/repos/ironhack-datalabs/madrid-oct-2018/commits')\n",
    "print(repo_commits)\n",
    "repo_commits_df = pd.DataFrame(repo_commits.json())"
   ]
  },
  {
   "cell_type": "code",
   "execution_count": 29,
   "metadata": {},
   "outputs": [
    {
     "name": "stdout",
     "output_type": "stream",
     "text": [
      "Total commits:  30\n"
     ]
    }
   ],
   "source": [
    "print('Total commits: ',repo_commits_df['commit'].count())"
   ]
  },
  {
   "cell_type": "code",
   "execution_count": 41,
   "metadata": {},
   "outputs": [
    {
     "name": "stdout",
     "output_type": "stream",
     "text": [
      "<Response [200]>\n"
     ]
    }
   ],
   "source": [
    "repo_joke = requests.get('https://api.github.com/repos/ironhack-datalabs/scavenger/contents')\n",
    "print(repo_joke)\n",
    "repo_joke_df = pd.DataFrame(repo_joke.json())"
   ]
  },
  {
   "cell_type": "code",
   "execution_count": 56,
   "metadata": {},
   "outputs": [
    {
     "data": {
      "text/plain": [
       "'15534'"
      ]
     },
     "execution_count": 56,
     "metadata": {},
     "output_type": "execute_result"
    }
   ],
   "source": [
    "repo_joke_df['path'][2]"
   ]
  },
  {
   "cell_type": "code",
   "execution_count": 57,
   "metadata": {},
   "outputs": [
    {
     "name": "stdout",
     "output_type": "stream",
     "text": [
      "<Response [200]>\n"
     ]
    }
   ],
   "source": [
    "repo_joke_file2 = requests.get('https://api.github.com/repos/ironhack-datalabs/scavenger/contents/15534')\n",
    "print(repo_joke_file2)\n",
    "repo_joke_file_df2 = pd.DataFrame(repo_joke_file2.json())"
   ]
  },
  {
   "cell_type": "code",
   "execution_count": 43,
   "metadata": {},
   "outputs": [
    {
     "name": "stdout",
     "output_type": "stream",
     "text": [
      "<Response [200]>\n"
     ]
    }
   ],
   "source": [
    "repo_joke_file = requests.get('https://api.github.com/repos/ironhack-datalabs/scavenger/contents/15024')\n",
    "print(repo_joke_file)\n",
    "repo_joke_file_df = pd.DataFrame(repo_joke_file.json())"
   ]
  },
  {
   "cell_type": "code",
   "execution_count": 70,
   "metadata": {},
   "outputs": [
    {
     "data": {
      "text/html": [
       "<div>\n",
       "<style scoped>\n",
       "    .dataframe tbody tr th:only-of-type {\n",
       "        vertical-align: middle;\n",
       "    }\n",
       "\n",
       "    .dataframe tbody tr th {\n",
       "        vertical-align: top;\n",
       "    }\n",
       "\n",
       "    .dataframe thead th {\n",
       "        text-align: right;\n",
       "    }\n",
       "</style>\n",
       "<table border=\"1\" class=\"dataframe\">\n",
       "  <thead>\n",
       "    <tr style=\"text-align: right;\">\n",
       "      <th></th>\n",
       "      <th>_links</th>\n",
       "      <th>download_url</th>\n",
       "      <th>git_url</th>\n",
       "      <th>html_url</th>\n",
       "      <th>name</th>\n",
       "      <th>path</th>\n",
       "      <th>sha</th>\n",
       "      <th>size</th>\n",
       "      <th>type</th>\n",
       "      <th>url</th>\n",
       "    </tr>\n",
       "  </thead>\n",
       "  <tbody>\n",
       "    <tr>\n",
       "      <th>0</th>\n",
       "      <td>{'self': 'https://api.github.com/repos/ironhac...</td>\n",
       "      <td>https://raw.githubusercontent.com/ironhack-dat...</td>\n",
       "      <td>https://api.github.com/repos/ironhack-datalabs...</td>\n",
       "      <td>https://github.com/ironhack-datalabs/scavenger...</td>\n",
       "      <td>.0008.scavengerhunt</td>\n",
       "      <td>15534/.0008.scavengerhunt</td>\n",
       "      <td>e351fb73264581ce26504b97ef07daea35116f32</td>\n",
       "      <td>6</td>\n",
       "      <td>file</td>\n",
       "      <td>https://api.github.com/repos/ironhack-datalabs...</td>\n",
       "    </tr>\n",
       "    <tr>\n",
       "      <th>1</th>\n",
       "      <td>{'self': 'https://api.github.com/repos/ironhac...</td>\n",
       "      <td>https://raw.githubusercontent.com/ironhack-dat...</td>\n",
       "      <td>https://api.github.com/repos/ironhack-datalabs...</td>\n",
       "      <td>https://github.com/ironhack-datalabs/scavenger...</td>\n",
       "      <td>.0012.scavengerhunt</td>\n",
       "      <td>15534/.0012.scavengerhunt</td>\n",
       "      <td>209e3ef4b6247ce746048d5711befda46206d235</td>\n",
       "      <td>3</td>\n",
       "      <td>file</td>\n",
       "      <td>https://api.github.com/repos/ironhack-datalabs...</td>\n",
       "    </tr>\n",
       "    <tr>\n",
       "      <th>2</th>\n",
       "      <td>{'self': 'https://api.github.com/repos/ironhac...</td>\n",
       "      <td>https://raw.githubusercontent.com/ironhack-dat...</td>\n",
       "      <td>https://api.github.com/repos/ironhack-datalabs...</td>\n",
       "      <td>https://github.com/ironhack-datalabs/scavenger...</td>\n",
       "      <td>2</td>\n",
       "      <td>15534/2</td>\n",
       "      <td>e69de29bb2d1d6434b8b29ae775ad8c2e48c5391</td>\n",
       "      <td>0</td>\n",
       "      <td>file</td>\n",
       "      <td>https://api.github.com/repos/ironhack-datalabs...</td>\n",
       "    </tr>\n",
       "    <tr>\n",
       "      <th>3</th>\n",
       "      <td>{'self': 'https://api.github.com/repos/ironhac...</td>\n",
       "      <td>https://raw.githubusercontent.com/ironhack-dat...</td>\n",
       "      <td>https://api.github.com/repos/ironhack-datalabs...</td>\n",
       "      <td>https://github.com/ironhack-datalabs/scavenger...</td>\n",
       "      <td>98</td>\n",
       "      <td>15534/98</td>\n",
       "      <td>e69de29bb2d1d6434b8b29ae775ad8c2e48c5391</td>\n",
       "      <td>0</td>\n",
       "      <td>file</td>\n",
       "      <td>https://api.github.com/repos/ironhack-datalabs...</td>\n",
       "    </tr>\n",
       "  </tbody>\n",
       "</table>\n",
       "</div>"
      ],
      "text/plain": [
       "                                              _links  \\\n",
       "0  {'self': 'https://api.github.com/repos/ironhac...   \n",
       "1  {'self': 'https://api.github.com/repos/ironhac...   \n",
       "2  {'self': 'https://api.github.com/repos/ironhac...   \n",
       "3  {'self': 'https://api.github.com/repos/ironhac...   \n",
       "\n",
       "                                        download_url  \\\n",
       "0  https://raw.githubusercontent.com/ironhack-dat...   \n",
       "1  https://raw.githubusercontent.com/ironhack-dat...   \n",
       "2  https://raw.githubusercontent.com/ironhack-dat...   \n",
       "3  https://raw.githubusercontent.com/ironhack-dat...   \n",
       "\n",
       "                                             git_url  \\\n",
       "0  https://api.github.com/repos/ironhack-datalabs...   \n",
       "1  https://api.github.com/repos/ironhack-datalabs...   \n",
       "2  https://api.github.com/repos/ironhack-datalabs...   \n",
       "3  https://api.github.com/repos/ironhack-datalabs...   \n",
       "\n",
       "                                            html_url                 name  \\\n",
       "0  https://github.com/ironhack-datalabs/scavenger...  .0008.scavengerhunt   \n",
       "1  https://github.com/ironhack-datalabs/scavenger...  .0012.scavengerhunt   \n",
       "2  https://github.com/ironhack-datalabs/scavenger...                    2   \n",
       "3  https://github.com/ironhack-datalabs/scavenger...                   98   \n",
       "\n",
       "                        path                                       sha  size  \\\n",
       "0  15534/.0008.scavengerhunt  e351fb73264581ce26504b97ef07daea35116f32     6   \n",
       "1  15534/.0012.scavengerhunt  209e3ef4b6247ce746048d5711befda46206d235     3   \n",
       "2                    15534/2  e69de29bb2d1d6434b8b29ae775ad8c2e48c5391     0   \n",
       "3                   15534/98  e69de29bb2d1d6434b8b29ae775ad8c2e48c5391     0   \n",
       "\n",
       "   type                                                url  \n",
       "0  file  https://api.github.com/repos/ironhack-datalabs...  \n",
       "1  file  https://api.github.com/repos/ironhack-datalabs...  \n",
       "2  file  https://api.github.com/repos/ironhack-datalabs...  \n",
       "3  file  https://api.github.com/repos/ironhack-datalabs...  "
      ]
     },
     "execution_count": 70,
     "metadata": {},
     "output_type": "execute_result"
    }
   ],
   "source": [
    "repo_joke_file_df2"
   ]
  },
  {
   "cell_type": "code",
   "execution_count": 59,
   "metadata": {},
   "outputs": [
    {
     "name": "stdout",
     "output_type": "stream",
     "text": [
      "<Response [200]>\n"
     ]
    }
   ],
   "source": [
    "repo_joke_file_08 = requests.get('https://api.github.com/repos/ironhack-datalabs/scavenger/contents/15534/.0008.scavengerhunt')\n",
    "print(repo_joke_file_08)\n",
    "repo_joke_file08_df = pd.DataFrame(repo_joke_file_08.json())"
   ]
  },
  {
   "cell_type": "code",
   "execution_count": 60,
   "metadata": {},
   "outputs": [
    {
     "data": {
      "text/plain": [
       "git     c3BlbnQK\\n\n",
       "html    c3BlbnQK\\n\n",
       "self    c3BlbnQK\\n\n",
       "Name: content, dtype: object"
      ]
     },
     "execution_count": 60,
     "metadata": {},
     "output_type": "execute_result"
    }
   ],
   "source": [
    "repo_joke_file08_df['content']"
   ]
  },
  {
   "cell_type": "code",
   "execution_count": null,
   "metadata": {},
   "outputs": [],
   "source": []
  }
 ],
 "metadata": {
  "kernelspec": {
   "display_name": "Python 3",
   "language": "python",
   "name": "python3"
  },
  "language_info": {
   "codemirror_mode": {
    "name": "ipython",
    "version": 3
   },
   "file_extension": ".py",
   "mimetype": "text/x-python",
   "name": "python",
   "nbconvert_exporter": "python",
   "pygments_lexer": "ipython3",
   "version": "3.7.3"
  }
 },
 "nbformat": 4,
 "nbformat_minor": 2
}
