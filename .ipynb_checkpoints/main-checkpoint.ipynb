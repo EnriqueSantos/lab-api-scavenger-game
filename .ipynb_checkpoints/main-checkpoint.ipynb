{
 "cells": [
  {
   "cell_type": "code",
   "execution_count": 1,
   "metadata": {},
   "outputs": [],
   "source": [
    "import requests\n",
    "import pandas as pd"
   ]
  },
  {
   "cell_type": "markdown",
   "metadata": {},
   "source": [
    "## Challenge 1: Fork Languages"
   ]
  },
  {
   "cell_type": "code",
   "execution_count": 2,
   "metadata": {},
   "outputs": [
    {
     "name": "stdout",
     "output_type": "stream",
     "text": [
      "Response: <Response [200]>\n",
      "Número de forks: 13\n"
     ]
    }
   ],
   "source": [
    "# Documentation suggest to add the next header\n",
    "head = {'Accept':'application/vnd.github.v3+json'}\n",
    "# I made a request for the /ironhack-datalabs/madrid-oct-2018\n",
    "repo_madrid_request_forks = requests.get('https://api.github.com/repos/ironhack-datalabs/madrid-oct-2018',headers=head)\n",
    "print('Response:',repo_madrid_request_forks)\n",
    "# And I transform to a pandas dataframe\n",
    "repo_madrid_request_forks = pd.DataFrame(repo_madrid_request_forks.json())\n",
    "# I got the number of forks\n",
    "print('Número de forks:',repo_madrid_request_forks['forks'][0])"
   ]
  },
  {
   "cell_type": "code",
   "execution_count": 10,
   "metadata": {},
   "outputs": [
    {
     "name": "stdout",
     "output_type": "stream",
     "text": [
      "<Response [200]>\n",
      "Languages in the repository:\n"
     ]
    },
    {
     "data": {
      "text/plain": [
       "{'Jupyter Notebook': 1134241, 'HTML': 498316, 'Python': 8691}"
      ]
     },
     "execution_count": 10,
     "metadata": {},
     "output_type": "execute_result"
    }
   ],
   "source": [
    "head = {'Accept':'application/vnd.github.v3+json'}\n",
    "# I got the language directly adding /languages to the URL.\n",
    "repo_madrid_request = requests.get('https://api.github.com/repos/ironhack-datalabs/madrid-oct-2018/languages',headers=head)\n",
    "print(repo_madrid_request)\n",
    "print('Languages in the repository:')\n",
    "repo_madrid_request.json()"
   ]
  },
  {
   "cell_type": "markdown",
   "metadata": {},
   "source": [
    "## Challenge 2."
   ]
  },
  {
   "cell_type": "markdown",
   "metadata": {},
   "source": [
    "Count how many commits were made in the past week.\n",
    "\n",
    "* Obtain all the commits made in the past week via API, which is a JSON array that contains multiple commit objects.\n",
    "\n",
    "* Count how many commit objects are contained in the array."
   ]
  },
  {
   "cell_type": "code",
   "execution_count": 17,
   "metadata": {},
   "outputs": [
    {
     "name": "stdout",
     "output_type": "stream",
     "text": [
      "<Response [200]>\n"
     ]
    }
   ],
   "source": [
    "repo_commits = requests.get('https://api.github.com/repos/ironhack-datalabs/madrid-oct-2018/commits')\n",
    "print(repo_commits)\n",
    "repo_commits_df = pd.DataFrame(repo_commits.json())"
   ]
  },
  {
   "cell_type": "code",
   "execution_count": 29,
   "metadata": {},
   "outputs": [
    {
     "name": "stdout",
     "output_type": "stream",
     "text": [
      "Total commits:  30\n"
     ]
    }
   ],
   "source": [
    "print('Total commits: ',repo_commits_df['commit'].count())"
   ]
  },
  {
   "cell_type": "markdown",
   "metadata": {},
   "source": [
    "## Challenge 3: Hidden Cold Joke"
   ]
  },
  {
   "cell_type": "code",
   "execution_count": 5,
   "metadata": {},
   "outputs": [
    {
     "name": "stdout",
     "output_type": "stream",
     "text": [
      "<Response [200]>\n"
     ]
    }
   ],
   "source": [
    "repo_joke = requests.get('https://api.github.com/repos/ironhack-datalabs/scavenger/contents')\n",
    "print(repo_joke)\n",
    "repo_joke_df = pd.DataFrame(repo_joke.json())\n",
    "# Utilizaré la columna de paths para buscar los archivos en cada directorio\n",
    "df_paths = repo_joke_df['path'][1:]"
   ]
  },
  {
   "cell_type": "code",
   "execution_count": 9,
   "metadata": {},
   "outputs": [
    {
     "data": {
      "text/html": [
       "<div>\n",
       "<style scoped>\n",
       "    .dataframe tbody tr th:only-of-type {\n",
       "        vertical-align: middle;\n",
       "    }\n",
       "\n",
       "    .dataframe tbody tr th {\n",
       "        vertical-align: top;\n",
       "    }\n",
       "\n",
       "    .dataframe thead th {\n",
       "        text-align: right;\n",
       "    }\n",
       "</style>\n",
       "<table border=\"1\" class=\"dataframe\">\n",
       "  <thead>\n",
       "    <tr style=\"text-align: right;\">\n",
       "      <th></th>\n",
       "      <th>_links</th>\n",
       "      <th>download_url</th>\n",
       "      <th>git_url</th>\n",
       "      <th>html_url</th>\n",
       "      <th>name</th>\n",
       "      <th>path</th>\n",
       "      <th>sha</th>\n",
       "      <th>size</th>\n",
       "      <th>type</th>\n",
       "      <th>url</th>\n",
       "    </tr>\n",
       "  </thead>\n",
       "  <tbody>\n",
       "    <tr>\n",
       "      <th>0</th>\n",
       "      <td>{'self': 'https://api.github.com/repos/ironhac...</td>\n",
       "      <td>https://raw.githubusercontent.com/ironhack-dat...</td>\n",
       "      <td>https://api.github.com/repos/ironhack-datalabs...</td>\n",
       "      <td>https://github.com/ironhack-datalabs/scavenger...</td>\n",
       "      <td>.0006.scavengerhunt</td>\n",
       "      <td>15024/.0006.scavengerhunt</td>\n",
       "      <td>1c9064284a24b3486015eafdb391b141c27ada2b</td>\n",
       "      <td>3</td>\n",
       "      <td>file</td>\n",
       "      <td>https://api.github.com/repos/ironhack-datalabs...</td>\n",
       "    </tr>\n",
       "    <tr>\n",
       "      <th>1</th>\n",
       "      <td>{'self': 'https://api.github.com/repos/ironhac...</td>\n",
       "      <td>https://raw.githubusercontent.com/ironhack-dat...</td>\n",
       "      <td>https://api.github.com/repos/ironhack-datalabs...</td>\n",
       "      <td>https://github.com/ironhack-datalabs/scavenger...</td>\n",
       "      <td>40</td>\n",
       "      <td>15024/40</td>\n",
       "      <td>e69de29bb2d1d6434b8b29ae775ad8c2e48c5391</td>\n",
       "      <td>0</td>\n",
       "      <td>file</td>\n",
       "      <td>https://api.github.com/repos/ironhack-datalabs...</td>\n",
       "    </tr>\n",
       "    <tr>\n",
       "      <th>2</th>\n",
       "      <td>{'self': 'https://api.github.com/repos/ironhac...</td>\n",
       "      <td>https://raw.githubusercontent.com/ironhack-dat...</td>\n",
       "      <td>https://api.github.com/repos/ironhack-datalabs...</td>\n",
       "      <td>https://github.com/ironhack-datalabs/scavenger...</td>\n",
       "      <td>74</td>\n",
       "      <td>15024/74</td>\n",
       "      <td>e69de29bb2d1d6434b8b29ae775ad8c2e48c5391</td>\n",
       "      <td>0</td>\n",
       "      <td>file</td>\n",
       "      <td>https://api.github.com/repos/ironhack-datalabs...</td>\n",
       "    </tr>\n",
       "    <tr>\n",
       "      <th>3</th>\n",
       "      <td>{'self': 'https://api.github.com/repos/ironhac...</td>\n",
       "      <td>https://raw.githubusercontent.com/ironhack-dat...</td>\n",
       "      <td>https://api.github.com/repos/ironhack-datalabs...</td>\n",
       "      <td>https://github.com/ironhack-datalabs/scavenger...</td>\n",
       "      <td>99</td>\n",
       "      <td>15024/99</td>\n",
       "      <td>e69de29bb2d1d6434b8b29ae775ad8c2e48c5391</td>\n",
       "      <td>0</td>\n",
       "      <td>file</td>\n",
       "      <td>https://api.github.com/repos/ironhack-datalabs...</td>\n",
       "    </tr>\n",
       "  </tbody>\n",
       "</table>\n",
       "</div>"
      ],
      "text/plain": [
       "                                              _links  \\\n",
       "0  {'self': 'https://api.github.com/repos/ironhac...   \n",
       "1  {'self': 'https://api.github.com/repos/ironhac...   \n",
       "2  {'self': 'https://api.github.com/repos/ironhac...   \n",
       "3  {'self': 'https://api.github.com/repos/ironhac...   \n",
       "\n",
       "                                        download_url  \\\n",
       "0  https://raw.githubusercontent.com/ironhack-dat...   \n",
       "1  https://raw.githubusercontent.com/ironhack-dat...   \n",
       "2  https://raw.githubusercontent.com/ironhack-dat...   \n",
       "3  https://raw.githubusercontent.com/ironhack-dat...   \n",
       "\n",
       "                                             git_url  \\\n",
       "0  https://api.github.com/repos/ironhack-datalabs...   \n",
       "1  https://api.github.com/repos/ironhack-datalabs...   \n",
       "2  https://api.github.com/repos/ironhack-datalabs...   \n",
       "3  https://api.github.com/repos/ironhack-datalabs...   \n",
       "\n",
       "                                            html_url                 name  \\\n",
       "0  https://github.com/ironhack-datalabs/scavenger...  .0006.scavengerhunt   \n",
       "1  https://github.com/ironhack-datalabs/scavenger...                   40   \n",
       "2  https://github.com/ironhack-datalabs/scavenger...                   74   \n",
       "3  https://github.com/ironhack-datalabs/scavenger...                   99   \n",
       "\n",
       "                        path                                       sha  size  \\\n",
       "0  15024/.0006.scavengerhunt  1c9064284a24b3486015eafdb391b141c27ada2b     3   \n",
       "1                   15024/40  e69de29bb2d1d6434b8b29ae775ad8c2e48c5391     0   \n",
       "2                   15024/74  e69de29bb2d1d6434b8b29ae775ad8c2e48c5391     0   \n",
       "3                   15024/99  e69de29bb2d1d6434b8b29ae775ad8c2e48c5391     0   \n",
       "\n",
       "   type                                                url  \n",
       "0  file  https://api.github.com/repos/ironhack-datalabs...  \n",
       "1  file  https://api.github.com/repos/ironhack-datalabs...  \n",
       "2  file  https://api.github.com/repos/ironhack-datalabs...  \n",
       "3  file  https://api.github.com/repos/ironhack-datalabs...  "
      ]
     },
     "execution_count": 9,
     "metadata": {},
     "output_type": "execute_result"
    }
   ],
   "source": [
    "df_paths\n",
    "#Solo podré hacer esto una vez pero solicitare el contenido de cada path en df_paths\n",
    "list_df_content = [pd.DataFrame(requests.get('https://api.github.com/repos/ironhack-datalabs/scavenger/contents/'+ path).json()) for path in df_paths.tolist()]\n",
    "list_df_content[0]"
   ]
  },
  {
   "cell_type": "code",
   "execution_count": 19,
   "metadata": {},
   "outputs": [
    {
     "data": {
      "text/html": [
       "<div>\n",
       "<style scoped>\n",
       "    .dataframe tbody tr th:only-of-type {\n",
       "        vertical-align: middle;\n",
       "    }\n",
       "\n",
       "    .dataframe tbody tr th {\n",
       "        vertical-align: top;\n",
       "    }\n",
       "\n",
       "    .dataframe thead th {\n",
       "        text-align: right;\n",
       "    }\n",
       "</style>\n",
       "<table border=\"1\" class=\"dataframe\">\n",
       "  <thead>\n",
       "    <tr style=\"text-align: right;\">\n",
       "      <th></th>\n",
       "      <th>dir</th>\n",
       "      <th>number_file</th>\n",
       "      <th>suffix</th>\n",
       "    </tr>\n",
       "  </thead>\n",
       "  <tbody>\n",
       "    <tr>\n",
       "      <th>0</th>\n",
       "      <td>98750/</td>\n",
       "      <td>0001</td>\n",
       "      <td>scavengerhunt</td>\n",
       "    </tr>\n",
       "    <tr>\n",
       "      <th>1</th>\n",
       "      <td>88596/</td>\n",
       "      <td>0002</td>\n",
       "      <td>scavengerhunt</td>\n",
       "    </tr>\n",
       "    <tr>\n",
       "      <th>2</th>\n",
       "      <td>60224/</td>\n",
       "      <td>0003</td>\n",
       "      <td>scavengerhunt</td>\n",
       "    </tr>\n",
       "    <tr>\n",
       "      <th>3</th>\n",
       "      <td>68848/</td>\n",
       "      <td>0004</td>\n",
       "      <td>scavengerhunt</td>\n",
       "    </tr>\n",
       "    <tr>\n",
       "      <th>4</th>\n",
       "      <td>44639/</td>\n",
       "      <td>0005</td>\n",
       "      <td>scavengerhunt</td>\n",
       "    </tr>\n",
       "    <tr>\n",
       "      <th>5</th>\n",
       "      <td>15024/</td>\n",
       "      <td>0006</td>\n",
       "      <td>scavengerhunt</td>\n",
       "    </tr>\n",
       "    <tr>\n",
       "      <th>6</th>\n",
       "      <td>17020/</td>\n",
       "      <td>0007</td>\n",
       "      <td>scavengerhunt</td>\n",
       "    </tr>\n",
       "    <tr>\n",
       "      <th>7</th>\n",
       "      <td>15534/</td>\n",
       "      <td>0008</td>\n",
       "      <td>scavengerhunt</td>\n",
       "    </tr>\n",
       "    <tr>\n",
       "      <th>8</th>\n",
       "      <td>97881/</td>\n",
       "      <td>0009</td>\n",
       "      <td>scavengerhunt</td>\n",
       "    </tr>\n",
       "    <tr>\n",
       "      <th>9</th>\n",
       "      <td>47830/</td>\n",
       "      <td>0010</td>\n",
       "      <td>scavengerhunt</td>\n",
       "    </tr>\n",
       "    <tr>\n",
       "      <th>10</th>\n",
       "      <td>50896/</td>\n",
       "      <td>0011</td>\n",
       "      <td>scavengerhunt</td>\n",
       "    </tr>\n",
       "    <tr>\n",
       "      <th>11</th>\n",
       "      <td>15534/</td>\n",
       "      <td>0012</td>\n",
       "      <td>scavengerhunt</td>\n",
       "    </tr>\n",
       "    <tr>\n",
       "      <th>12</th>\n",
       "      <td>89338/</td>\n",
       "      <td>0013</td>\n",
       "      <td>scavengerhunt</td>\n",
       "    </tr>\n",
       "    <tr>\n",
       "      <th>13</th>\n",
       "      <td>49418/</td>\n",
       "      <td>0014</td>\n",
       "      <td>scavengerhunt</td>\n",
       "    </tr>\n",
       "    <tr>\n",
       "      <th>14</th>\n",
       "      <td>91701/</td>\n",
       "      <td>0015</td>\n",
       "      <td>scavengerhunt</td>\n",
       "    </tr>\n",
       "    <tr>\n",
       "      <th>15</th>\n",
       "      <td>47222/</td>\n",
       "      <td>0016</td>\n",
       "      <td>scavengerhunt</td>\n",
       "    </tr>\n",
       "    <tr>\n",
       "      <th>16</th>\n",
       "      <td>70985/</td>\n",
       "      <td>0017</td>\n",
       "      <td>scavengerhunt</td>\n",
       "    </tr>\n",
       "    <tr>\n",
       "      <th>17</th>\n",
       "      <td>45525/</td>\n",
       "      <td>0018</td>\n",
       "      <td>scavengerhunt</td>\n",
       "    </tr>\n",
       "    <tr>\n",
       "      <th>18</th>\n",
       "      <td>70751/</td>\n",
       "      <td>0019</td>\n",
       "      <td>scavengerhunt</td>\n",
       "    </tr>\n",
       "    <tr>\n",
       "      <th>19</th>\n",
       "      <td>55685/</td>\n",
       "      <td>0020</td>\n",
       "      <td>scavengerhunt</td>\n",
       "    </tr>\n",
       "    <tr>\n",
       "      <th>20</th>\n",
       "      <td>30351/</td>\n",
       "      <td>0021</td>\n",
       "      <td>scavengerhunt</td>\n",
       "    </tr>\n",
       "    <tr>\n",
       "      <th>21</th>\n",
       "      <td>40303/</td>\n",
       "      <td>0022</td>\n",
       "      <td>scavengerhunt</td>\n",
       "    </tr>\n",
       "    <tr>\n",
       "      <th>22</th>\n",
       "      <td>55417/</td>\n",
       "      <td>0023</td>\n",
       "      <td>scavengerhunt</td>\n",
       "    </tr>\n",
       "    <tr>\n",
       "      <th>23</th>\n",
       "      <td>47222/</td>\n",
       "      <td>0024</td>\n",
       "      <td>scavengerhunt</td>\n",
       "    </tr>\n",
       "  </tbody>\n",
       "</table>\n",
       "</div>"
      ],
      "text/plain": [
       "       dir number_file         suffix\n",
       "0   98750/        0001  scavengerhunt\n",
       "1   88596/        0002  scavengerhunt\n",
       "2   60224/        0003  scavengerhunt\n",
       "3   68848/        0004  scavengerhunt\n",
       "4   44639/        0005  scavengerhunt\n",
       "5   15024/        0006  scavengerhunt\n",
       "6   17020/        0007  scavengerhunt\n",
       "7   15534/        0008  scavengerhunt\n",
       "8   97881/        0009  scavengerhunt\n",
       "9   47830/        0010  scavengerhunt\n",
       "10  50896/        0011  scavengerhunt\n",
       "11  15534/        0012  scavengerhunt\n",
       "12  89338/        0013  scavengerhunt\n",
       "13  49418/        0014  scavengerhunt\n",
       "14  91701/        0015  scavengerhunt\n",
       "15  47222/        0016  scavengerhunt\n",
       "16  70985/        0017  scavengerhunt\n",
       "17  45525/        0018  scavengerhunt\n",
       "18  70751/        0019  scavengerhunt\n",
       "19  55685/        0020  scavengerhunt\n",
       "20  30351/        0021  scavengerhunt\n",
       "21  40303/        0022  scavengerhunt\n",
       "22  55417/        0023  scavengerhunt\n",
       "23  47222/        0024  scavengerhunt"
      ]
     },
     "execution_count": 19,
     "metadata": {},
     "output_type": "execute_result"
    }
   ],
   "source": [
    "# Buscamos que archivos estan contenidos en cada directorio y creamos una lista con los archivos y su directorio\n",
    "# para más adelante solicitar el contenido\n",
    "list_dir_file = [name.split('.') for df in list_df_content for name in df['path'] if name.endswith('hunt')]\n",
    "# Ordenamos la lista convirtiendola en DataFrame\n",
    "pd_sort_f = pd.DataFrame(list_dir_file,columns=['dir','number_file','suffix']).sort_values('number_file').reset_index(drop=True)\n",
    "pd_sort_f"
   ]
  },
  {
   "cell_type": "code",
   "execution_count": 24,
   "metadata": {},
   "outputs": [
    {
     "name": "stdout",
     "output_type": "stream",
     "text": [
      "dir\n",
      "number_file\n",
      "suffix\n"
     ]
    }
   ],
   "source": [
    "for row in pd_sort_f:\n",
    "    print(str(row))"
   ]
  },
  {
   "cell_type": "code",
   "execution_count": 41,
   "metadata": {},
   "outputs": [],
   "source": [
    "# Hago una iteración sobre cada una de las filas del dataframe uniendo \n",
    "# el valor de cada columna y solicitando su contenido\n",
    "preffix = 'https://api.github.com/repos/ironhack-datalabs/scavenger/contents/'\n",
    "list_files_path = [str(preffix+str(pd_sort_f['dir'][i]))+'.'+str(pd_sort_f['number_file'][i])+'.'+str(pd_sort_f['suffix'][i]) for i in range(len(pd_sort_f))]\n",
    "list_files_content = [pd.DataFrame(requests.get(path_full).json())['content'] for path_full in list_files_path]"
   ]
  },
  {
   "cell_type": "code",
   "execution_count": 83,
   "metadata": {},
   "outputs": [
    {
     "name": "stdout",
     "output_type": "stream",
     "text": [
      "In data science 80 percent of time spent is preparing data 20 percent of time is spent complaining about the need to prepare data\n"
     ]
    }
   ],
   "source": [
    "# Decodificamos cada string\n",
    "import base64\n",
    "import re\n",
    "joke = [re.findall(r'\\b\\'\\w+',str(base64.b64decode(list_files_content[i].values[0])))[0][1:] for i in range(len(list_files_content))]\n",
    "print(' '.join(joke))"
   ]
  },
  {
   "cell_type": "code",
   "execution_count": null,
   "metadata": {},
   "outputs": [],
   "source": []
  }
 ],
 "metadata": {
  "kernelspec": {
   "display_name": "Python 3",
   "language": "python",
   "name": "python3"
  },
  "language_info": {
   "codemirror_mode": {
    "name": "ipython",
    "version": 3
   },
   "file_extension": ".py",
   "mimetype": "text/x-python",
   "name": "python",
   "nbconvert_exporter": "python",
   "pygments_lexer": "ipython3",
   "version": "3.7.3"
  }
 },
 "nbformat": 4,
 "nbformat_minor": 2
}
